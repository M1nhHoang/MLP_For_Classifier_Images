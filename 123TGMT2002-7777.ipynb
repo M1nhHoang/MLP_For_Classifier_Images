{
 "cells": [
  {
   "cell_type": "code",
   "execution_count": 1,
   "id": "aa03a606",
   "metadata": {},
   "outputs": [],
   "source": [
    "from tensorflow.keras import models, layers\n",
    "from sklearn.model_selection import train_test_split\n",
    "import cv2\n",
    "import tensorflow as tf\n",
    "import numpy as np\n",
    "import matplotlib.pyplot as plt\n",
    "import pandas as pd\n",
    "import keras"
   ]
  },
  {
   "cell_type": "code",
   "execution_count": 2,
   "id": "8d9d80c0",
   "metadata": {},
   "outputs": [
    {
     "name": "stdout",
     "output_type": "stream",
     "text": [
      "Tensorflow 2.8.0\n"
     ]
    }
   ],
   "source": [
    "print(f'Tensorflow {tf.__version__}')"
   ]
  },
  {
   "cell_type": "markdown",
   "id": "ea477107",
   "metadata": {},
   "source": [
    "# Load dataset"
   ]
  },
  {
   "cell_type": "code",
   "execution_count": 9,
   "id": "5c5f5051",
   "metadata": {},
   "outputs": [],
   "source": [
    "# load dữ liệu\n",
    "x_train = np.load('./data/X_train.npy')\n",
    "y_train = np.load('./data/y_train.npy')\n",
    "\n",
    "# chia data\n",
    "x_train, x_val, y_train, y_val = train_test_split(x_train, y_train, test_size=0.2, random_state=42)"
   ]
  },
  {
   "cell_type": "code",
   "execution_count": 10,
   "id": "fd3f89e5",
   "metadata": {},
   "outputs": [
    {
     "name": "stdout",
     "output_type": "stream",
     "text": [
      "(33600, 784)\n",
      "(33600,)\n",
      "(8400, 784)\n",
      "(8400,)\n"
     ]
    }
   ],
   "source": [
    "print(x_train.shape)\n",
    "print(y_train.shape)\n",
    "print(x_val.shape)\n",
    "print(y_val.shape)"
   ]
  },
  {
   "cell_type": "markdown",
   "id": "afaf7bc1",
   "metadata": {},
   "source": [
    "# Image - Pre-processing"
   ]
  },
  {
   "cell_type": "code",
   "execution_count": 15,
   "id": "430ef33a",
   "metadata": {},
   "outputs": [],
   "source": [
    "import random\n",
    "# Thêm nhiễu vào ảnh\n",
    "def add_noise(image, stddev = 50):\n",
    "    noise = np.zeros(image.shape, np.uint8)\n",
    "    cv2.randn(noise, np.random.randint(10, 100), stddev)\n",
    "    \n",
    "    noisy_img = cv2.add(image, noise)\n",
    "    \n",
    "    return noisy_img.flatten()\n",
    "\n",
    "# Thay đổi ngẫu nhiên điểm ảnh\n",
    "def random_swap_pixels(image):\n",
    "    h, w = image.shape\n",
    "\n",
    "    for _ in range(np.random.randint(10, 60)):\n",
    "        # Chọn ngẫu nhiên hai điểm ảnh\n",
    "        x1, y1 = np.random.randint(0, w - 1), np.random.randint(0, h - 1)\n",
    "        x2, y2 = np.random.randint(0, w - 1), np.random.randint(0, h - 1)\n",
    "\n",
    "        # Hoán đổi giá trị pixel của hai điểm ảnh\n",
    "        image[y1, x1], image[y2, x2] = image[y2, x2], image[y1, x1]\n",
    "\n",
    "    return image.flatten()\n",
    "\n",
    "# Xoay ảnh\n",
    "def random_rotate_vector(image):\n",
    "    angle = np.random.randint(-180, 180)\n",
    "    \n",
    "    # Tạo ma trận\n",
    "    M = cv2.getRotationMatrix2D((image.shape[1] / 2, image.shape[0] / 2), angle, 1)\n",
    "    \n",
    "    # Xoay bức ảnh\n",
    "    rotated_img = cv2.warpAffine(image, M, (image.shape[1], image.shape[0]))\n",
    "\n",
    "    return rotated_img.flatten()\n",
    "\n",
    "# zoom ảnh\n",
    "def random_zoom_vector(image, img_shape = [28, 28]):\n",
    "    zoom_factor = np.random.uniform(0.5, 1.5)\n",
    "\n",
    "    # Tạo ma trận biến đổi\n",
    "    M = cv2.getRotationMatrix2D((img_shape[1] / 2, img_shape[0] / 2), 0, zoom_factor)\n",
    "    \n",
    "    # Thực hiện phóng to ảnh\n",
    "    zoomed_image = cv2.warpAffine(image, M, (img_shape[1], img_shape[0]))\n",
    "\n",
    "\n",
    "    return zoomed_image.flatten()\n",
    "\n",
    "def random_flip(image):\n",
    "    if np.random.rand() < 0.5:\n",
    "        flipped_image = cv2.flip(image, 1)\n",
    "        return flipped_image.flatten()\n",
    "    else:\n",
    "        flipped_image = cv2.flip(image, 0)\n",
    "        return flipped_image.flatten()\n",
    "\n",
    "def convolution_image(image):\n",
    "    # Highpass Kernel: finds edges\n",
    "    kernel = np.array([[0, -1, 0],\n",
    "                      [-1, 5, -1],\n",
    "                      [0, -1, 0]])\n",
    "    \n",
    "    return cv2.filter2D(image, -1, kernel).flatten()\n",
    "    \n",
    "# create data augmentation\n",
    "def create_pretrain_data(dataset, n, img_shape = (28, 28)):\n",
    "    data1 = [add_noise(image.reshape(img_shape)) for image in np.tile(dataset, (n, 1))]\n",
    "    data2 = [random_flip(image.reshape(img_shape)) for image in np.tile(dataset, (n, 1))]\n",
    "    data3 = [random_zoom_vector(image.reshape(img_shape)) for image in np.tile(dataset, (n, 1))]\n",
    "    data4 = [random_swap_pixels(image.reshape(img_shape)) for image in np.tile(dataset, (n, 1))]\n",
    "    data5 = [random_rotate_vector(image.reshape(img_shape)) for image in np.tile(dataset, (n, 1))]\n",
    "    data6 = [random_flip(image.reshape(img_shape)) for image in np.tile(dataset, (n, 1))]\n",
    "\n",
    "    data = data1 + data2 + data3 + data4 + data5 + data6\n",
    "    \n",
    "    return np.array(data)"
   ]
  },
  {
   "cell_type": "code",
   "execution_count": 16,
   "id": "54751f28",
   "metadata": {},
   "outputs": [],
   "source": [
    "# Tạo dữ liệu để pretraining\n",
    "n = 2\n",
    "x_pretrain = create_pretrain_data(x_train, n)\n",
    "y_pretrain = np.tile(y_train, n*6)"
   ]
  },
  {
   "cell_type": "code",
   "execution_count": 17,
   "id": "bf33e025",
   "metadata": {},
   "outputs": [],
   "source": [
    "from tensorflow.keras.utils import to_categorical\n",
    "# chuyển label thành 1 vector one hot\n",
    "y_train = to_categorical(y_train)\n",
    "y_val = to_categorical(y_val)\n",
    "y_pretrain = to_categorical(y_pretrain)"
   ]
  },
  {
   "cell_type": "code",
   "execution_count": 18,
   "id": "390bd9b1",
   "metadata": {},
   "outputs": [
    {
     "name": "stdout",
     "output_type": "stream",
     "text": [
      "(403200, 784)\n",
      "(403200, 10)\n",
      "(33600, 784)\n",
      "(33600, 10)\n",
      "(8400, 784)\n",
      "(8400, 10)\n"
     ]
    }
   ],
   "source": [
    "print(x_pretrain.shape)\n",
    "print(y_pretrain.shape)\n",
    "print(x_train.shape)\n",
    "print(y_train.shape)\n",
    "print(x_val.shape)\n",
    "print(y_val.shape)"
   ]
  },
  {
   "cell_type": "markdown",
   "id": "4052e294",
   "metadata": {},
   "source": [
    "# Multilayer Perceptron (MLP) Architecture"
   ]
  },
  {
   "cell_type": "markdown",
   "id": "b6d43b49",
   "metadata": {},
   "source": [
    "- ## Pretraining"
   ]
  },
  {
   "cell_type": "code",
   "execution_count": 19,
   "id": "c9b8c46a",
   "metadata": {},
   "outputs": [],
   "source": [
    "def create_pretrain_model():\n",
    "    input_image = layers.Input(shape=(784, ))\n",
    "\n",
    "    data_augmentation = keras.Sequential(\n",
    "        [\n",
    "            layers.Normalization(),\n",
    "            layers.Reshape((28, 28, 1)),\n",
    "        ],\n",
    "        name=\"data_augmentation\",\n",
    "    )\n",
    "    \n",
    "    augmented = data_augmentation(input_image)\n",
    "    \n",
    "    # Chia hình ảnh thành các patches\n",
    "    patch_size = (4, 4)\n",
    "    patches = tf.image.extract_patches(augmented, sizes=[1, patch_size[0], patch_size[1], 1], strides=[1, 1, 1, 1], rates=[1, 1, 1, 1], padding='SAME')\n",
    "\n",
    "    # Xây dựng mô hình MLP cho việc trích xuất đặc trưng từ mỗi patch\n",
    "    patch_model = keras.Sequential([\n",
    "        layers.Flatten(),\n",
    "        layers.Dense(512, activation='relu'),\n",
    "        layers.BatchNormalization(),\n",
    "        layers.Dense(256, activation='relu'),\n",
    "        layers.Dropout(0.1),\n",
    "        layers.BatchNormalization(),\n",
    "        layers.Dense(128, activation='relu')\n",
    "    ])\n",
    "\n",
    "    # Trích xuất đặc trưng từ mỗi patch\n",
    "    patch_features = patch_model(patches)\n",
    "    \n",
    "    x = layers.Dense(512, activation='relu') (patch_features)\n",
    "    x = layers.BatchNormalization() (x)\n",
    "    x = layers.Dense(256, activation='relu') (x)\n",
    "    x = layers.Dropout(0.1) (x)\n",
    "    x = layers.BatchNormalization() (x)\n",
    "    x = layers.Dense(128, activation='relu') (x)\n",
    "    x = layers.Dropout(0.1) (x)\n",
    "    x = layers.BatchNormalization() (x)\n",
    "    x = layers.Dense(10, activation='softmax') (x)\n",
    "    \n",
    "    model = keras.Model(inputs=input_image, outputs=x)\n",
    "\n",
    "    model.compile(loss=tf.keras.losses.CategoricalCrossentropy(), optimizer='Adam', metrics=['accuracy'])\n",
    "\n",
    "    return model"
   ]
  },
  {
   "cell_type": "code",
   "execution_count": 20,
   "id": "6dd7aca6",
   "metadata": {},
   "outputs": [
    {
     "name": "stdout",
     "output_type": "stream",
     "text": [
      "Model: \"model\"\n",
      "_________________________________________________________________\n",
      " Layer (type)                Output Shape              Param #   \n",
      "=================================================================\n",
      " input_1 (InputLayer)        [(None, 784)]             0         \n",
      "                                                                 \n",
      " data_augmentation (Sequenti  (None, 28, 28, 1)        1569      \n",
      " al)                                                             \n",
      "                                                                 \n",
      " tf.image.extract_patches (T  (None, 28, 28, 16)       0         \n",
      " FOpLambda)                                                      \n",
      "                                                                 \n",
      " sequential (Sequential)     (None, 128)               6590336   \n",
      "                                                                 \n",
      " dense_3 (Dense)             (None, 512)               66048     \n",
      "                                                                 \n",
      " batch_normalization_2 (Batc  (None, 512)              2048      \n",
      " hNormalization)                                                 \n",
      "                                                                 \n",
      " dense_4 (Dense)             (None, 256)               131328    \n",
      "                                                                 \n",
      " dropout_1 (Dropout)         (None, 256)               0         \n",
      "                                                                 \n",
      " batch_normalization_3 (Batc  (None, 256)              1024      \n",
      " hNormalization)                                                 \n",
      "                                                                 \n",
      " dense_5 (Dense)             (None, 128)               32896     \n",
      "                                                                 \n",
      " dropout_2 (Dropout)         (None, 128)               0         \n",
      "                                                                 \n",
      " batch_normalization_4 (Batc  (None, 128)              512       \n",
      " hNormalization)                                                 \n",
      "                                                                 \n",
      " dense_6 (Dense)             (None, 10)                1290      \n",
      "                                                                 \n",
      "=================================================================\n",
      "Total params: 6,827,051\n",
      "Trainable params: 6,822,154\n",
      "Non-trainable params: 4,897\n",
      "_________________________________________________________________\n"
     ]
    }
   ],
   "source": [
    "pretraining_model = create_pretrain_model()\n",
    "pretraining_model.summary()"
   ]
  },
  {
   "cell_type": "code",
   "execution_count": 21,
   "id": "53ef221b",
   "metadata": {},
   "outputs": [
    {
     "name": "stdout",
     "output_type": "stream",
     "text": [
      "Epoch 1/100\n",
      "1260/1260 [==============================] - ETA: 0s - loss: 0.6851 - accuracy: 0.7477\n",
      "Epoch 1: saving model to ./weights/pretrain_model\\model.1-0.5802\n",
      "INFO:tensorflow:Assets written to: ./weights/pretrain_model\\model.1-0.5802\\assets\n",
      "1260/1260 [==============================] - 103s 81ms/step - loss: 0.6851 - accuracy: 0.7477 - val_loss: 0.5802 - val_accuracy: 0.7867 - lr: 0.0010\n",
      "Epoch 2/100\n",
      "1260/1260 [==============================] - ETA: 0s - loss: 0.5225 - accuracy: 0.8067\n",
      "Epoch 2: saving model to ./weights/pretrain_model\\model.2-0.5689\n",
      "INFO:tensorflow:Assets written to: ./weights/pretrain_model\\model.2-0.5689\\assets\n",
      "1260/1260 [==============================] - 111s 88ms/step - loss: 0.5225 - accuracy: 0.8067 - val_loss: 0.5689 - val_accuracy: 0.7859 - lr: 0.0010\n",
      "Epoch 3/100\n",
      "1260/1260 [==============================] - ETA: 0s - loss: 0.4724 - accuracy: 0.8258\n",
      "Epoch 3: saving model to ./weights/pretrain_model\\model.3-0.5115\n",
      "INFO:tensorflow:Assets written to: ./weights/pretrain_model\\model.3-0.5115\\assets\n",
      "1260/1260 [==============================] - 107s 85ms/step - loss: 0.4724 - accuracy: 0.8258 - val_loss: 0.5115 - val_accuracy: 0.8195 - lr: 0.0010\n",
      "Epoch 4/100\n",
      "1260/1260 [==============================] - ETA: 0s - loss: 0.4376 - accuracy: 0.8380\n",
      "Epoch 4: saving model to ./weights/pretrain_model\\model.4-0.4712\n",
      "INFO:tensorflow:Assets written to: ./weights/pretrain_model\\model.4-0.4712\\assets\n",
      "1260/1260 [==============================] - 108s 86ms/step - loss: 0.4376 - accuracy: 0.8380 - val_loss: 0.4712 - val_accuracy: 0.8313 - lr: 0.0010\n",
      "Epoch 5/100\n",
      "1260/1260 [==============================] - ETA: 0s - loss: 0.4121 - accuracy: 0.8474\n",
      "Epoch 5: saving model to ./weights/pretrain_model\\model.5-0.4262\n",
      "INFO:tensorflow:Assets written to: ./weights/pretrain_model\\model.5-0.4262\\assets\n",
      "1260/1260 [==============================] - 110s 87ms/step - loss: 0.4121 - accuracy: 0.8474 - val_loss: 0.4262 - val_accuracy: 0.8481 - lr: 0.0010\n",
      "Epoch 6/100\n",
      "1260/1260 [==============================] - ETA: 0s - loss: 0.3900 - accuracy: 0.8557\n",
      "Epoch 6: saving model to ./weights/pretrain_model\\model.6-0.4138\n",
      "INFO:tensorflow:Assets written to: ./weights/pretrain_model\\model.6-0.4138\\assets\n",
      "1260/1260 [==============================] - 109s 86ms/step - loss: 0.3900 - accuracy: 0.8557 - val_loss: 0.4138 - val_accuracy: 0.8556 - lr: 0.0010\n",
      "Epoch 7/100\n",
      "1260/1260 [==============================] - ETA: 0s - loss: 0.3711 - accuracy: 0.8619\n",
      "Epoch 7: saving model to ./weights/pretrain_model\\model.7-0.4063\n",
      "INFO:tensorflow:Assets written to: ./weights/pretrain_model\\model.7-0.4063\\assets\n",
      "1260/1260 [==============================] - 108s 86ms/step - loss: 0.3711 - accuracy: 0.8619 - val_loss: 0.4063 - val_accuracy: 0.8533 - lr: 0.0010\n",
      "Epoch 8/100\n",
      "1260/1260 [==============================] - ETA: 0s - loss: 0.3545 - accuracy: 0.8674\n",
      "Epoch 8: saving model to ./weights/pretrain_model\\model.8-0.3990\n",
      "INFO:tensorflow:Assets written to: ./weights/pretrain_model\\model.8-0.3990\\assets\n",
      "1260/1260 [==============================] - 107s 85ms/step - loss: 0.3545 - accuracy: 0.8674 - val_loss: 0.3990 - val_accuracy: 0.8572 - lr: 0.0010\n",
      "Epoch 9/100\n",
      "1260/1260 [==============================] - ETA: 0s - loss: 0.3390 - accuracy: 0.8742\n",
      "Epoch 9: saving model to ./weights/pretrain_model\\model.9-0.3805\n",
      "INFO:tensorflow:Assets written to: ./weights/pretrain_model\\model.9-0.3805\\assets\n",
      "1260/1260 [==============================] - 103s 82ms/step - loss: 0.3390 - accuracy: 0.8742 - val_loss: 0.3805 - val_accuracy: 0.8688 - lr: 0.0010\n",
      "Epoch 10/100\n",
      "1260/1260 [==============================] - ETA: 0s - loss: 0.3282 - accuracy: 0.8771\n",
      "Epoch 10: saving model to ./weights/pretrain_model\\model.10-0.3791\n",
      "INFO:tensorflow:Assets written to: ./weights/pretrain_model\\model.10-0.3791\\assets\n",
      "1260/1260 [==============================] - 107s 85ms/step - loss: 0.3282 - accuracy: 0.8771 - val_loss: 0.3791 - val_accuracy: 0.8662 - lr: 0.0010\n",
      "Epoch 11/100\n",
      "1260/1260 [==============================] - ETA: 0s - loss: 0.3159 - accuracy: 0.8822\n",
      "Epoch 11: saving model to ./weights/pretrain_model\\model.11-0.3492\n",
      "INFO:tensorflow:Assets written to: ./weights/pretrain_model\\model.11-0.3492\\assets\n",
      "1260/1260 [==============================] - 131s 104ms/step - loss: 0.3159 - accuracy: 0.8822 - val_loss: 0.3492 - val_accuracy: 0.8773 - lr: 0.0010\n",
      "Epoch 12/100\n",
      "1260/1260 [==============================] - ETA: 0s - loss: 0.3041 - accuracy: 0.8859\n",
      "Epoch 12: saving model to ./weights/pretrain_model\\model.12-0.3447\n",
      "INFO:tensorflow:Assets written to: ./weights/pretrain_model\\model.12-0.3447\\assets\n",
      "1260/1260 [==============================] - 113s 89ms/step - loss: 0.3041 - accuracy: 0.8859 - val_loss: 0.3447 - val_accuracy: 0.8824 - lr: 0.0010\n",
      "Epoch 13/100\n",
      "1260/1260 [==============================] - ETA: 0s - loss: 0.2937 - accuracy: 0.8895\n",
      "Epoch 13: saving model to ./weights/pretrain_model\\model.13-0.3606\n",
      "INFO:tensorflow:Assets written to: ./weights/pretrain_model\\model.13-0.3606\\assets\n",
      "1260/1260 [==============================] - 110s 88ms/step - loss: 0.2937 - accuracy: 0.8895 - val_loss: 0.3606 - val_accuracy: 0.8816 - lr: 0.0010\n",
      "Epoch 14/100\n",
      "1260/1260 [==============================] - ETA: 0s - loss: 0.2844 - accuracy: 0.8930\n",
      "Epoch 14: saving model to ./weights/pretrain_model\\model.14-0.3396\n",
      "INFO:tensorflow:Assets written to: ./weights/pretrain_model\\model.14-0.3396\\assets\n",
      "1260/1260 [==============================] - 105s 83ms/step - loss: 0.2844 - accuracy: 0.8930 - val_loss: 0.3396 - val_accuracy: 0.8859 - lr: 0.0010\n",
      "Epoch 15/100\n",
      "1260/1260 [==============================] - ETA: 0s - loss: 0.2762 - accuracy: 0.8956\n",
      "Epoch 15: saving model to ./weights/pretrain_model\\model.15-0.3274\n",
      "INFO:tensorflow:Assets written to: ./weights/pretrain_model\\model.15-0.3274\\assets\n",
      "1260/1260 [==============================] - 117s 93ms/step - loss: 0.2762 - accuracy: 0.8956 - val_loss: 0.3274 - val_accuracy: 0.8896 - lr: 0.0010\n",
      "Epoch 16/100\n",
      "1260/1260 [==============================] - ETA: 0s - loss: 0.2678 - accuracy: 0.8991\n",
      "Epoch 16: saving model to ./weights/pretrain_model\\model.16-0.3414\n",
      "INFO:tensorflow:Assets written to: ./weights/pretrain_model\\model.16-0.3414\\assets\n",
      "1260/1260 [==============================] - 129s 103ms/step - loss: 0.2678 - accuracy: 0.8991 - val_loss: 0.3414 - val_accuracy: 0.8852 - lr: 0.0010\n",
      "Epoch 17/100\n",
      "1260/1260 [==============================] - ETA: 0s - loss: 0.2630 - accuracy: 0.9009\n",
      "Epoch 17: saving model to ./weights/pretrain_model\\model.17-0.3412\n",
      "INFO:tensorflow:Assets written to: ./weights/pretrain_model\\model.17-0.3412\\assets\n",
      "1260/1260 [==============================] - 114s 91ms/step - loss: 0.2630 - accuracy: 0.9009 - val_loss: 0.3412 - val_accuracy: 0.8888 - lr: 0.0010\n",
      "Epoch 18/100\n",
      "1260/1260 [==============================] - ETA: 0s - loss: 0.2135 - accuracy: 0.9192\n",
      "Epoch 18: saving model to ./weights/pretrain_model\\model.18-0.2712\n",
      "INFO:tensorflow:Assets written to: ./weights/pretrain_model\\model.18-0.2712\\assets\n",
      "1260/1260 [==============================] - 121s 96ms/step - loss: 0.2135 - accuracy: 0.9192 - val_loss: 0.2712 - val_accuracy: 0.9137 - lr: 1.0000e-04\n",
      "Epoch 19/100\n",
      "1260/1260 [==============================] - ETA: 0s - loss: 0.1985 - accuracy: 0.9251\n",
      "Epoch 19: saving model to ./weights/pretrain_model\\model.19-0.2754\n",
      "INFO:tensorflow:Assets written to: ./weights/pretrain_model\\model.19-0.2754\\assets\n",
      "1260/1260 [==============================] - 122s 97ms/step - loss: 0.1985 - accuracy: 0.9251 - val_loss: 0.2754 - val_accuracy: 0.9144 - lr: 1.0000e-04\n",
      "Epoch 20/100\n",
      "1260/1260 [==============================] - ETA: 0s - loss: 0.1928 - accuracy: 0.9270\n",
      "Epoch 20: saving model to ./weights/pretrain_model\\model.20-0.2718\n",
      "INFO:tensorflow:Assets written to: ./weights/pretrain_model\\model.20-0.2718\\assets\n",
      "1260/1260 [==============================] - 115s 91ms/step - loss: 0.1928 - accuracy: 0.9270 - val_loss: 0.2718 - val_accuracy: 0.9163 - lr: 1.0000e-04\n",
      "Epoch 21/100\n",
      "1260/1260 [==============================] - ETA: 0s - loss: 0.1852 - accuracy: 0.9297\n",
      "Epoch 21: saving model to ./weights/pretrain_model\\model.21-0.2554\n",
      "INFO:tensorflow:Assets written to: ./weights/pretrain_model\\model.21-0.2554\\assets\n",
      "1260/1260 [==============================] - 116s 92ms/step - loss: 0.1852 - accuracy: 0.9297 - val_loss: 0.2554 - val_accuracy: 0.9179 - lr: 1.0000e-05\n",
      "Epoch 22/100\n",
      "1260/1260 [==============================] - ETA: 0s - loss: 0.1837 - accuracy: 0.9307\n",
      "Epoch 22: saving model to ./weights/pretrain_model\\model.22-0.2667\n",
      "INFO:tensorflow:Assets written to: ./weights/pretrain_model\\model.22-0.2667\\assets\n",
      "1260/1260 [==============================] - 116s 92ms/step - loss: 0.1837 - accuracy: 0.9307 - val_loss: 0.2667 - val_accuracy: 0.9178 - lr: 1.0000e-05\n",
      "Epoch 23/100\n",
      "1260/1260 [==============================] - ETA: 0s - loss: 0.1831 - accuracy: 0.9308\n",
      "Epoch 23: saving model to ./weights/pretrain_model\\model.23-0.2536\n",
      "INFO:tensorflow:Assets written to: ./weights/pretrain_model\\model.23-0.2536\\assets\n",
      "1260/1260 [==============================] - 116s 92ms/step - loss: 0.1831 - accuracy: 0.9308 - val_loss: 0.2536 - val_accuracy: 0.9183 - lr: 1.0000e-05\n",
      "Epoch 24/100\n",
      "1260/1260 [==============================] - ETA: 0s - loss: 0.1830 - accuracy: 0.9312\n",
      "Epoch 24: saving model to ./weights/pretrain_model\\model.24-0.2751\n",
      "INFO:tensorflow:Assets written to: ./weights/pretrain_model\\model.24-0.2751\\assets\n",
      "1260/1260 [==============================] - 119s 94ms/step - loss: 0.1830 - accuracy: 0.9312 - val_loss: 0.2751 - val_accuracy: 0.9185 - lr: 1.0000e-05\n",
      "Epoch 25/100\n",
      "1260/1260 [==============================] - ETA: 0s - loss: 0.1826 - accuracy: 0.9309\n",
      "Epoch 25: saving model to ./weights/pretrain_model\\model.25-0.2868\n",
      "INFO:tensorflow:Assets written to: ./weights/pretrain_model\\model.25-0.2868\\assets\n",
      "1260/1260 [==============================] - 115s 91ms/step - loss: 0.1826 - accuracy: 0.9309 - val_loss: 0.2868 - val_accuracy: 0.9188 - lr: 1.0000e-05\n",
      "Epoch 26/100\n",
      "1260/1260 [==============================] - ETA: 0s - loss: 0.1815 - accuracy: 0.9316\n",
      "Epoch 26: saving model to ./weights/pretrain_model\\model.26-0.2718\n",
      "INFO:tensorflow:Assets written to: ./weights/pretrain_model\\model.26-0.2718\\assets\n",
      "1260/1260 [==============================] - 111s 88ms/step - loss: 0.1815 - accuracy: 0.9316 - val_loss: 0.2718 - val_accuracy: 0.9185 - lr: 1.0000e-06\n",
      "Epoch 27/100\n",
      "1260/1260 [==============================] - ETA: 0s - loss: 0.1805 - accuracy: 0.9319\n",
      "Epoch 27: saving model to ./weights/pretrain_model\\model.27-0.2758\n",
      "INFO:tensorflow:Assets written to: ./weights/pretrain_model\\model.27-0.2758\\assets\n",
      "1260/1260 [==============================] - 107s 85ms/step - loss: 0.1805 - accuracy: 0.9319 - val_loss: 0.2758 - val_accuracy: 0.9185 - lr: 1.0000e-06\n",
      "Epoch 28/100\n",
      "1260/1260 [==============================] - ETA: 0s - loss: 0.1811 - accuracy: 0.9318\n",
      "Epoch 28: saving model to ./weights/pretrain_model\\model.28-0.2688\n",
      "INFO:tensorflow:Assets written to: ./weights/pretrain_model\\model.28-0.2688\\assets\n",
      "1260/1260 [==============================] - 107s 85ms/step - loss: 0.1811 - accuracy: 0.9318 - val_loss: 0.2688 - val_accuracy: 0.9188 - lr: 1.0000e-07\n"
     ]
    }
   ],
   "source": [
    "# train dữ liệu pretrain\n",
    "reduce_lr = tf.keras.callbacks.ReduceLROnPlateau(monitor='val_loss', factor=0.1, patience=2, min_lr=1e-12)\n",
    "early_stopping = tf.keras.callbacks.EarlyStopping(monitor='val_loss', patience=5)\n",
    "callback = tf.keras.callbacks.ModelCheckpoint(filepath = './weights/pretrain_model/model.{epoch}-{val_loss:.4f}', monitor='val_loss', verbose=1, save_best_only=False, save_weights_only=False)\n",
    "\n",
    "pre_train_his = pretraining_model.fit(x_pretrain, y_pretrain, epochs=100, batch_size=256, validation_split=0.2, callbacks=[callback, reduce_lr, early_stopping], shuffle=True)"
   ]
  },
  {
   "cell_type": "code",
   "execution_count": 22,
   "id": "ef826b72-7805-4106-8b0b-a80a3b277e90",
   "metadata": {},
   "outputs": [
    {
     "data": {
      "image/png": "[encoded data removed]",
      "text/plain": [
       "<Figure size 640x480 with 1 Axes>"
      ]
     },
     "metadata": {},
     "output_type": "display_data"
    }
   ],
   "source": [
    "plt.plot(pre_train_his.history['val_loss'], c = 'coral', label = \"validation loss line\")\n",
    "plt.plot(pre_train_his.history['loss'], c = 'blue', label = 'train loss line')\n",
    "legend = plt.legend(loc='upper center')\n",
    "plt.show()"
   ]
  },
  {
   "cell_type": "code",
   "execution_count": 40,
   "id": "03103ff9-9425-4402-ba8b-a0fdfa0261b4",
   "metadata": {},
   "outputs": [],
   "source": [
    "# load pretrain model\n",
    "pretraining_model = tf.keras.models.load_model('./weights/pretrain_model/model.23-0.2536')"
   ]
  },
  {
   "cell_type": "markdown",
   "id": "24437b78-d799-46d1-9087-f6a6ab1c5bcc",
   "metadata": {},
   "source": [
    "- # Train predict model"
   ]
  },
  {
   "cell_type": "code",
   "execution_count": 42,
   "id": "a936d398",
   "metadata": {},
   "outputs": [],
   "source": [
    "from tensorflow.keras.models import clone_model\n",
    "# Xây dựng mô hình\n",
    "def create_model():\n",
    "    # x = layers.Dense(64, activation='relu') (pretraining_model.layers[-2].output)\n",
    "    # x = layers.Dropout(0.1) (x)\n",
    "    # x = layers.BatchNormalization() (x)\n",
    "    x = layers.Dense(10, activation='softmax') (pretraining_model.layers[-2].output)\n",
    "    \n",
    "    predict_model = keras.Model(inputs=pretraining_model.input, outputs=x)\n",
    "    \n",
    "    predict_model.compile(loss=tf.keras.losses.CategoricalCrossentropy(), optimizer='Adam', metrics=['accuracy'])\n",
    "    \n",
    "    return predict_model"
   ]
  },
  {
   "cell_type": "code",
   "execution_count": 43,
   "id": "24f5c47a-2fa8-40af-839e-2a4a85562945",
   "metadata": {},
   "outputs": [
    {
     "name": "stdout",
     "output_type": "stream",
     "text": [
      "Model: \"model_4\"\n",
      "_________________________________________________________________\n",
      " Layer (type)                Output Shape              Param #   \n",
      "=================================================================\n",
      " input_1 (InputLayer)        [(None, 784)]             0         \n",
      "                                                                 \n",
      " data_augmentation (Sequenti  (None, 28, 28, 1)        1569      \n",
      " al)                                                             \n",
      "                                                                 \n",
      " tf.image.extract_patches (T  (None, 28, 28, 16)       0         \n",
      " FOpLambda)                                                      \n",
      "                                                                 \n",
      " sequential (Sequential)     (None, 128)               6590336   \n",
      "                                                                 \n",
      " dense_3 (Dense)             (None, 512)               66048     \n",
      "                                                                 \n",
      " batch_normalization_2 (Batc  (None, 512)              2048      \n",
      " hNormalization)                                                 \n",
      "                                                                 \n",
      " dense_4 (Dense)             (None, 256)               131328    \n",
      "                                                                 \n",
      " dropout_1 (Dropout)         (None, 256)               0         \n",
      "                                                                 \n",
      " batch_normalization_3 (Batc  (None, 256)              1024      \n",
      " hNormalization)                                                 \n",
      "                                                                 \n",
      " dense_5 (Dense)             (None, 128)               32896     \n",
      "                                                                 \n",
      " dropout_2 (Dropout)         (None, 128)               0         \n",
      "                                                                 \n",
      " batch_normalization_4 (Batc  (None, 128)              512       \n",
      " hNormalization)                                                 \n",
      "                                                                 \n",
      " dense_9 (Dense)             (None, 10)                1290      \n",
      "                                                                 \n",
      "=================================================================\n",
      "Total params: 6,827,051\n",
      "Trainable params: 6,822,154\n",
      "Non-trainable params: 4,897\n",
      "_________________________________________________________________\n"
     ]
    }
   ],
   "source": [
    "predict_model = create_model()\n",
    "predict_model.summary()"
   ]
  },
  {
   "cell_type": "code",
   "execution_count": 44,
   "id": "c2bda8f5",
   "metadata": {},
   "outputs": [
    {
     "name": "stdout",
     "output_type": "stream",
     "text": [
      "Epoch 1/100\n",
      "131/132 [============================>.] - ETA: 0s - loss: 0.3878 - accuracy: 0.8864\n",
      "Epoch 1: saving model to ./weights/predict_model\\model.1-0.3485\n",
      "INFO:tensorflow:Assets written to: ./weights/predict_model\\model.1-0.3485\\assets\n",
      "132/132 [==============================] - 14s 95ms/step - loss: 0.3876 - accuracy: 0.8864 - val_loss: 0.3485 - val_accuracy: 0.8935 - lr: 0.0010\n",
      "Epoch 2/100\n",
      "131/132 [============================>.] - ETA: 0s - loss: 0.1561 - accuracy: 0.9462\n",
      "Epoch 2: saving model to ./weights/predict_model\\model.2-0.3486\n",
      "INFO:tensorflow:Assets written to: ./weights/predict_model\\model.2-0.3486\\assets\n",
      "132/132 [==============================] - 12s 93ms/step - loss: 0.1560 - accuracy: 0.9462 - val_loss: 0.3486 - val_accuracy: 0.8889 - lr: 0.0010\n",
      "Epoch 3/100\n",
      "132/132 [==============================] - ETA: 0s - loss: 0.1405 - accuracy: 0.9501\n",
      "Epoch 3: saving model to ./weights/predict_model\\model.3-0.3562\n",
      "INFO:tensorflow:Assets written to: ./weights/predict_model\\model.3-0.3562\\assets\n",
      "132/132 [==============================] - 13s 102ms/step - loss: 0.1405 - accuracy: 0.9501 - val_loss: 0.3562 - val_accuracy: 0.8875 - lr: 0.0010\n",
      "Epoch 4/100\n",
      "132/132 [==============================] - ETA: 0s - loss: 0.1054 - accuracy: 0.9623\n",
      "Epoch 4: saving model to ./weights/predict_model\\model.4-0.3317\n",
      "INFO:tensorflow:Assets written to: ./weights/predict_model\\model.4-0.3317\\assets\n",
      "132/132 [==============================] - 14s 108ms/step - loss: 0.1054 - accuracy: 0.9623 - val_loss: 0.3317 - val_accuracy: 0.8993 - lr: 1.0000e-04\n",
      "Epoch 5/100\n",
      "132/132 [==============================] - ETA: 0s - loss: 0.0924 - accuracy: 0.9675\n",
      "Epoch 5: saving model to ./weights/predict_model\\model.5-0.3391\n",
      "INFO:tensorflow:Assets written to: ./weights/predict_model\\model.5-0.3391\\assets\n",
      "132/132 [==============================] - 14s 104ms/step - loss: 0.0924 - accuracy: 0.9675 - val_loss: 0.3391 - val_accuracy: 0.9010 - lr: 1.0000e-04\n",
      "Epoch 6/100\n",
      "132/132 [==============================] - ETA: 0s - loss: 0.0870 - accuracy: 0.9689\n",
      "Epoch 6: saving model to ./weights/predict_model\\model.6-0.3470\n",
      "INFO:tensorflow:Assets written to: ./weights/predict_model\\model.6-0.3470\\assets\n",
      "132/132 [==============================] - 14s 103ms/step - loss: 0.0870 - accuracy: 0.9689 - val_loss: 0.3470 - val_accuracy: 0.9018 - lr: 1.0000e-04\n",
      "Epoch 7/100\n",
      "132/132 [==============================] - ETA: 0s - loss: 0.0830 - accuracy: 0.9706\n",
      "Epoch 7: saving model to ./weights/predict_model\\model.7-0.3459\n",
      "INFO:tensorflow:Assets written to: ./weights/predict_model\\model.7-0.3459\\assets\n",
      "132/132 [==============================] - 14s 103ms/step - loss: 0.0830 - accuracy: 0.9706 - val_loss: 0.3459 - val_accuracy: 0.9013 - lr: 1.0000e-05\n",
      "Epoch 8/100\n",
      "132/132 [==============================] - ETA: 0s - loss: 0.0828 - accuracy: 0.9712\n",
      "Epoch 8: saving model to ./weights/predict_model\\model.8-0.3462\n",
      "INFO:tensorflow:Assets written to: ./weights/predict_model\\model.8-0.3462\\assets\n",
      "132/132 [==============================] - 14s 109ms/step - loss: 0.0828 - accuracy: 0.9712 - val_loss: 0.3462 - val_accuracy: 0.9019 - lr: 1.0000e-05\n",
      "Epoch 9/100\n",
      "132/132 [==============================] - ETA: 0s - loss: 0.0816 - accuracy: 0.9713\n",
      "Epoch 9: saving model to ./weights/predict_model\\model.9-0.3462\n",
      "INFO:tensorflow:Assets written to: ./weights/predict_model\\model.9-0.3462\\assets\n",
      "132/132 [==============================] - 14s 109ms/step - loss: 0.0816 - accuracy: 0.9713 - val_loss: 0.3462 - val_accuracy: 0.9015 - lr: 1.0000e-06\n"
     ]
    }
   ],
   "source": [
    "reduce_lr = tf.keras.callbacks.ReduceLROnPlateau(monitor='val_loss', factor=0.1, patience=2, min_lr=1.0000e-12)\n",
    "early_stopping = tf.keras.callbacks.EarlyStopping(monitor='val_loss', patience=5)\n",
    "callback = tf.keras.callbacks.ModelCheckpoint(filepath = './weights/predict_model/model.{epoch}-{val_loss:.4f}', monitor='val_loss', verbose=1, save_best_only=False, save_weights_only=False)\n",
    "\n",
    "# bắt đầu training\n",
    "his = predict_model.fit(x_train, y_train, validation_data=(x_val, y_val), epochs = 100, batch_size = 256, shuffle=True, callbacks=[early_stopping, reduce_lr, callback])"
   ]
  },
  {
   "cell_type": "code",
   "execution_count": 45,
   "id": "52d98d46",
   "metadata": {},
   "outputs": [
    {
     "data": {
      "image/png": "[encoded data removed]",
      "text/plain": [
       "<Figure size 640x480 with 1 Axes>"
      ]
     },
     "metadata": {},
     "output_type": "display_data"
    },
    {
     "data": {
      "image/png": "[encoded data removed]",
      "text/plain": [
       "<Figure size 640x480 with 1 Axes>"
      ]
     },
     "metadata": {},
     "output_type": "display_data"
    }
   ],
   "source": [
    "# vẽ đường loss trên tập train và tập validation\n",
    "plt.plot(his.history['val_loss'], c = 'coral', label = \"validation loss line\")\n",
    "plt.plot(his.history['loss'], c = 'blue', label = 'train loss line')\n",
    "legend = plt.legend(loc='upper center')\n",
    "plt.show()\n",
    "\n",
    "# vẽ đường accuracy trên tập train và tập validation\n",
    "plt.plot(his.history['val_accuracy'], c = 'coral', label = 'validation accuracy line')\n",
    "plt.plot(his.history['accuracy'], c = 'blue', label = 'train accuracy line')\n",
    "legend = plt.legend(loc='lower center')\n",
    "plt.show()"
   ]
  },
  {
   "cell_type": "code",
   "execution_count": 46,
   "id": "2d61a309-3b27-426c-b715-9dd16d869fb5",
   "metadata": {},
   "outputs": [],
   "source": [
    "# load predict model\n",
    "predict_model = tf.keras.models.load_model('./weights/predict_model/model.8-0.3462')"
   ]
  },
  {
   "cell_type": "code",
   "execution_count": 47,
   "id": "91676d9f",
   "metadata": {},
   "outputs": [],
   "source": [
    "# dự đoán kết quả sau đó xuất ra csv\n",
    "x_test = np.load('./data/X_test.npy')\n",
    "predictions = predict_model.predict(x_test)\n",
    "predicted_labels = predictions.argmax(axis=1)\n",
    "results = pd.DataFrame({\n",
    "    'index': range(len(x_test)),\n",
    "    'label': predicted_labels\n",
    "})\n",
    "results.to_csv('Latest_submission.csv', index=False)"
   ]
  },
  {
   "cell_type": "code",
   "execution_count": null,
   "id": "441c4546-c1b6-414e-b1fc-725f2d11ef3e",
   "metadata": {},
   "outputs": [],
   "source": []
  }
 ],
 "metadata": {
  "kernelspec": {
   "display_name": "Python 3 (ipykernel)",
   "language": "python",
   "name": "python3"
  },
  "language_info": {
   "codemirror_mode": {
    "name": "ipython",
    "version": 3
   },
   "file_extension": ".py",
   "mimetype": "text/x-python",
   "name": "python",
   "nbconvert_exporter": "python",
   "pygments_lexer": "ipython3",
   "version": "3.10.9"
  }
 },
 "nbformat": 4,
 "nbformat_minor": 5
}
